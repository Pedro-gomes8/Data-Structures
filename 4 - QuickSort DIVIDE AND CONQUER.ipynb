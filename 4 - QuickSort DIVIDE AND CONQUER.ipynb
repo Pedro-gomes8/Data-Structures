{
 "cells": [
  {
   "cell_type": "code",
   "execution_count": 4,
   "id": "6aa48602",
   "metadata": {},
   "outputs": [],
   "source": [
    "def add(arr:list):\n",
    "    if len(arr) == 0:\n",
    "        return 0\n",
    "    return arr[0] + add(arr[1:])"
   ]
  },
  {
   "cell_type": "code",
   "execution_count": 5,
   "id": "63f740fc",
   "metadata": {},
   "outputs": [
    {
     "data": {
      "text/plain": [
       "21"
      ]
     },
     "execution_count": 5,
     "metadata": {},
     "output_type": "execute_result"
    }
   ],
   "source": [
    "add([1,2,3,4,5,6])"
   ]
  },
  {
   "cell_type": "code",
   "execution_count": 6,
   "id": "e5829622",
   "metadata": {},
   "outputs": [],
   "source": [
    "def countNumberList(arr:list):\n",
    "    if len(arr) == 0:\n",
    "        return 0\n",
    "    else:\n",
    "        return 1 + countNumberList(arr[1:])\n",
    "    "
   ]
  },
  {
   "cell_type": "code",
   "execution_count": 7,
   "id": "061ff00d",
   "metadata": {},
   "outputs": [
    {
     "data": {
      "text/plain": [
       "4"
      ]
     },
     "execution_count": 7,
     "metadata": {},
     "output_type": "execute_result"
    }
   ],
   "source": [
    "countNumberList([1,2,3,4])"
   ]
  },
  {
   "cell_type": "markdown",
   "id": "6638ac37",
   "metadata": {},
   "source": [
    "QuickSort\n"
   ]
  },
  {
   "cell_type": "markdown",
   "id": "7f6316ec",
   "metadata": {},
   "source": [
    "Worst case Quicksort is O(n^2)\n",
    "\n",
    "On average: it takes O(n log n)"
   ]
  },
  {
   "cell_type": "code",
   "execution_count": 8,
   "id": "3b6bf583",
   "metadata": {},
   "outputs": [],
   "source": [
    "# base case = empty array or array with 1 element"
   ]
  },
  {
   "cell_type": "code",
   "execution_count": 29,
   "id": "b5ad691d",
   "metadata": {},
   "outputs": [],
   "source": [
    "def quicksort(arr: list):\n",
    "    if len(arr) <= 1:\n",
    "        return arr\n",
    "    pivot = arr[len(arr)//2]\n",
    "    left = []\n",
    "    right = []\n",
    "    for x in range(len(arr)):\n",
    "        if x == len(arr)//2:\n",
    "            continue\n",
    "        cur = arr[x]\n",
    "        if cur <= pivot:\n",
    "            left.append(cur)\n",
    "        elif cur > pivot:\n",
    "            right.append(cur)\n",
    "    return quicksort(left) + [pivot] + quicksort(right)\n",
    "        "
   ]
  },
  {
   "cell_type": "code",
   "execution_count": 30,
   "id": "ea0e1956",
   "metadata": {},
   "outputs": [
    {
     "data": {
      "text/plain": [
       "[1, 1, 1, 2, 2, 3, 3, 4, 5, 6, 6, 7, 9, 12, 45]"
      ]
     },
     "execution_count": 30,
     "metadata": {},
     "output_type": "execute_result"
    }
   ],
   "source": [
    "quicksort([1,2,3,45,6,7,4,3,2,1,9,12,1,5,6])"
   ]
  },
  {
   "cell_type": "markdown",
   "id": "9660abb0",
   "metadata": {},
   "source": [
    "Merge sort vs Quick sort"
   ]
  },
  {
   "cell_type": "markdown",
   "id": "5d5494c0",
   "metadata": {},
   "source": [
    "WHile quick sort can, on average, be O(n logn) and merge sort is always O(n logn), "
   ]
  },
  {
   "cell_type": "markdown",
   "id": "67db20ff",
   "metadata": {},
   "source": [
    "Worst case of quick sort is O(n**2) enquanto average and best case are O(nlogn).\n",
    "\n",
    "\n",
    "ALTHOUGH, in this case, constant matters."
   ]
  },
  {
   "cell_type": "markdown",
   "id": "5251b9b6",
   "metadata": {},
   "source": [
    "Divide and conquer on a list -> the base case is probably an empty array or an array with one element"
   ]
  },
  {
   "cell_type": "code",
   "execution_count": null,
   "id": "cbf67b54",
   "metadata": {},
   "outputs": [],
   "source": []
  }
 ],
 "metadata": {
  "kernelspec": {
   "display_name": "Python 3 (ipykernel)",
   "language": "python",
   "name": "python3"
  },
  "language_info": {
   "codemirror_mode": {
    "name": "ipython",
    "version": 3
   },
   "file_extension": ".py",
   "mimetype": "text/x-python",
   "name": "python",
   "nbconvert_exporter": "python",
   "pygments_lexer": "ipython3",
   "version": "3.8.8"
  }
 },
 "nbformat": 4,
 "nbformat_minor": 5
}
