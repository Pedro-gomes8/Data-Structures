{
 "cells": [
  {
   "cell_type": "markdown",
   "id": "2df00944",
   "metadata": {},
   "source": [
    "## Stack\n",
    "\n",
    "#### What is a stack?\n",
    "#### When and where is a stack used?\n",
    "#### Complexity Analysis\n",
    "#### Stack usage examples"
   ]
  },
  {
   "cell_type": "markdown",
   "id": "4ce1da88",
   "metadata": {},
   "source": [
    "### What is a stack?\n",
    "\n",
    "One-ended linear data structure which models a real world stack by having two primary operations, namely push and pop"
   ]
  },
  {
   "cell_type": "markdown",
   "id": "f5f97521",
   "metadata": {},
   "source": [
    "![title](img/stack.png)"
   ]
  },
  {
   "cell_type": "code",
   "execution_count": null,
   "id": "64b00b28",
   "metadata": {},
   "outputs": [],
   "source": []
  }
 ],
 "metadata": {
  "kernelspec": {
   "display_name": "Python 3 (ipykernel)",
   "language": "python",
   "name": "python3"
  },
  "language_info": {
   "codemirror_mode": {
    "name": "ipython",
    "version": 3
   },
   "file_extension": ".py",
   "mimetype": "text/x-python",
   "name": "python",
   "nbconvert_exporter": "python",
   "pygments_lexer": "ipython3",
   "version": "3.8.8"
  }
 },
 "nbformat": 4,
 "nbformat_minor": 5
}
