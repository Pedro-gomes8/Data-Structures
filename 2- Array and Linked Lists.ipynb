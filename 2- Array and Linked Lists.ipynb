{
 "cells": [
  {
   "cell_type": "markdown",
   "id": "a08e3735",
   "metadata": {},
   "source": [
    "| | Array | Linked Lists |\n",
    "| --- :|: --- |: --- |\n",
    "| Reading | O(1) | O(n) |\n",
    "| Insertion | O(n) | O(1) |\n",
    "| Deletion | O(n) | O(1) |"
   ]
  },
  {
   "cell_type": "markdown",
   "id": "b913c9e4",
   "metadata": {},
   "source": [
    "Array vs linked lists\n",
    "\n",
    "\n",
    "Linked lists are better if you want to insert or delete elements in the middle."
   ]
  },
  {
   "cell_type": "markdown",
   "id": "13ecb805",
   "metadata": {},
   "source": [
    "When you're trying to insert, let's say in the middle, everything after will need to shift to the right, and if there's no space, a new space for all your elements needs to be found and realocatted.\n",
    "\n",
    "With lists, it's as easy as changing what the previous element points to"
   ]
  },
  {
   "cell_type": "markdown",
   "id": "09d61429",
   "metadata": {},
   "source": [
    "### Static array and dinamic array"
   ]
  },
  {
   "cell_type": "markdown",
   "id": "9566700e",
   "metadata": {},
   "source": []
  }
 ],
 "metadata": {
  "kernelspec": {
   "display_name": "Python 3 (ipykernel)",
   "language": "python",
   "name": "python3"
  },
  "language_info": {
   "codemirror_mode": {
    "name": "ipython",
    "version": 3
   },
   "file_extension": ".py",
   "mimetype": "text/x-python",
   "name": "python",
   "nbconvert_exporter": "python",
   "pygments_lexer": "ipython3",
   "version": "3.8.8"
  }
 },
 "nbformat": 4,
 "nbformat_minor": 5
}
