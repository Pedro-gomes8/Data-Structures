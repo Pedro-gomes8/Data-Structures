{
 "cells": [
  {
   "cell_type": "markdown",
   "id": "134fec25",
   "metadata": {},
   "source": [
    "Stack works as follows:\n",
    "\n",
    "When you add to it, you add to the top. When you remove, you remove from the top.\n",
    "\n",
    "\n",
    "It's different than a queue where the first one to come is the first one to go."
   ]
  }
 ],
 "metadata": {
  "kernelspec": {
   "display_name": "Python 3 (ipykernel)",
   "language": "python",
   "name": "python3"
  },
  "language_info": {
   "codemirror_mode": {
    "name": "ipython",
    "version": 3
   },
   "file_extension": ".py",
   "mimetype": "text/x-python",
   "name": "python",
   "nbconvert_exporter": "python",
   "pygments_lexer": "ipython3",
   "version": "3.8.8"
  }
 },
 "nbformat": 4,
 "nbformat_minor": 5
}
