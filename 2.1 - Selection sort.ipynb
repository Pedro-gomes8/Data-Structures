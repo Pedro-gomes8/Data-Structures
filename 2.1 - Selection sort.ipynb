{
 "cells": [
  {
   "cell_type": "code",
   "execution_count": 6,
   "id": "90add26a",
   "metadata": {},
   "outputs": [],
   "source": [
    "def badSort(arr: list):\n",
    "    def findSmallest(arr2:list):\n",
    "        smallest = arr2[0]\n",
    "        idx = 0\n",
    "        for i in range(len(arr2)):\n",
    "            if arr2[i] < smallest:\n",
    "                smallest = arr2[i]\n",
    "                idx = i\n",
    "        return idx\n",
    "    sortedArray = []\n",
    "    for i in range(len(arr)):\n",
    "        smallest = findSmallest(arr)\n",
    "        sortedArray.append(arr.pop(smallest))\n",
    "    return sortedArray"
   ]
  },
  {
   "cell_type": "code",
   "execution_count": 7,
   "id": "d1aa13f8",
   "metadata": {},
   "outputs": [
    {
     "data": {
      "text/plain": [
       "[1, 3, 4, 5, 6, 8]"
      ]
     },
     "execution_count": 7,
     "metadata": {},
     "output_type": "execute_result"
    }
   ],
   "source": [
    "badSort([1,3,5,8,6,4])"
   ]
  },
  {
   "cell_type": "code",
   "execution_count": null,
   "id": "7882f57f",
   "metadata": {},
   "outputs": [],
   "source": []
  }
 ],
 "metadata": {
  "kernelspec": {
   "display_name": "Python 3 (ipykernel)",
   "language": "python",
   "name": "python3"
  },
  "language_info": {
   "codemirror_mode": {
    "name": "ipython",
    "version": 3
   },
   "file_extension": ".py",
   "mimetype": "text/x-python",
   "name": "python",
   "nbconvert_exporter": "python",
   "pygments_lexer": "ipython3",
   "version": "3.8.8"
  }
 },
 "nbformat": 4,
 "nbformat_minor": 5
}
