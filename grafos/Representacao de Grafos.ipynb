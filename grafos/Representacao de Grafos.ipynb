{
 "cells": [
  {
   "cell_type": "markdown",
   "id": "2547e2a9",
   "metadata": {},
   "source": [
    "### MATRIZ DE ADJACENCIA ( N x N )"
   ]
  },
  {
   "cell_type": "markdown",
   "id": "b1a752c2",
   "metadata": {},
   "source": [
    "A ideia eh fazer uma matriz representando os vertices, e os elementos da matriz representam as arestas\n",
    "\n",
    "$ a_{ij} = 1 $ Se ha aresta <br>\n",
    "$ a_{ij} = 0 $ Caso contrario\n"
   ]
  },
  {
   "cell_type": "markdown",
   "id": "48de7253",
   "metadata": {},
   "source": [
    "### MATRIZ DE INCIDENCIA ( N x M)"
   ]
  },
  {
   "cell_type": "markdown",
   "id": "faef5aa3",
   "metadata": {},
   "source": [
    "$ a_{ij} = 1 $ Se vertice I incide sobre aresta J <br>\n",
    "$ a_{ij} = 0 $ Caso contrario"
   ]
  },
  {
   "cell_type": "markdown",
   "id": "49c1ea9e",
   "metadata": {},
   "source": [
    "# REPRESENTACAO DESSA FORMA ACIMA NAO ESCALA, ORDEM N^2 E N*M"
   ]
  },
  {
   "cell_type": "markdown",
   "id": "4e237010",
   "metadata": {},
   "source": [
    "### Grafos esparsos ( grandes em vertices, pequeno em arestas )"
   ]
  },
  {
   "cell_type": "markdown",
   "id": "b248ba1a",
   "metadata": {},
   "source": [
    " -> Matriz formada principalmente de zeros! -> Consumo grande de memoria desnecessario, logo ha necessidade de achar outra forma de representar matriz"
   ]
  },
  {
   "cell_type": "markdown",
   "id": "70b778a6",
   "metadata": {},
   "source": [
    "# REPRESENTACAO LISTA DE ADJACENCIA"
   ]
  },
  {
   "cell_type": "markdown",
   "id": "deb83bbd",
   "metadata": {},
   "source": [
    "IDEIA: ASSOCIAR A CADA VERTICE UMA LISTA DE VERTICES ADJACENTES ( lista de vizinhos)"
   ]
  },
  {
   "cell_type": "markdown",
   "id": "acd5bea4",
   "metadata": {},
   "source": [
    "## Vetor de tamanho N, onde para cada elemento de 1 vetor, ha uma lista contendo os vertices vizinhos"
   ]
  },
  {
   "cell_type": "markdown",
   "id": "0c952cc1",
   "metadata": {},
   "source": [
    "# Custo de MEMORIA = 2 * M"
   ]
  },
  {
   "cell_type": "markdown",
   "id": "46ef1b02",
   "metadata": {},
   "source": [
    "# Vantagens: "
   ]
  },
  {
   "cell_type": "markdown",
   "id": "26edb2f4",
   "metadata": {},
   "source": [
    "#### listar todos vizinhos de um Vertice : basta apenas percorrer a lista de vizinhos"
   ]
  },
  {
   "cell_type": "markdown",
   "id": "23e477db",
   "metadata": {},
   "source": [
    "# Desvantagens:"
   ]
  },
  {
   "cell_type": "markdown",
   "id": "5d4aa7ff",
   "metadata": {},
   "source": [
    "#### Descobrir se A eh vizinho de B : Tem que percorrer toda a lista, no pior caso"
   ]
  },
  {
   "cell_type": "code",
   "execution_count": null,
   "id": "4aab5a3b",
   "metadata": {},
   "outputs": [],
   "source": []
  }
 ],
 "metadata": {
  "kernelspec": {
   "display_name": "Python 3 (ipykernel)",
   "language": "python",
   "name": "python3"
  },
  "language_info": {
   "codemirror_mode": {
    "name": "ipython",
    "version": 3
   },
   "file_extension": ".py",
   "mimetype": "text/x-python",
   "name": "python",
   "nbconvert_exporter": "python",
   "pygments_lexer": "ipython3",
   "version": "3.8.8"
  }
 },
 "nbformat": 4,
 "nbformat_minor": 5
}
