{
 "cells": [
  {
   "cell_type": "code",
   "execution_count": 4,
   "id": "1b4321d1",
   "metadata": {},
   "outputs": [],
   "source": [
    "def add(arr:list):\n",
    "    if len(arr) == 0:\n",
    "        return 0\n",
    "    return arr[0] + add(arr[1:])"
   ]
  },
  {
   "cell_type": "code",
   "execution_count": 5,
   "id": "8bb863c9",
   "metadata": {},
   "outputs": [
    {
     "data": {
      "text/plain": [
       "21"
      ]
     },
     "execution_count": 5,
     "metadata": {},
     "output_type": "execute_result"
    }
   ],
   "source": [
    "add([1,2,3,4,5,6])"
   ]
  },
  {
   "cell_type": "code",
   "execution_count": 6,
   "id": "1925d85c",
   "metadata": {},
   "outputs": [],
   "source": [
    "def countNumberList(arr:list):\n",
    "    if len(arr) == 0:\n",
    "        return 0\n",
    "    else:\n",
    "        return 1 + countNumberList(arr[1:])\n",
    "    "
   ]
  },
  {
   "cell_type": "code",
   "execution_count": 7,
   "id": "f02597db",
   "metadata": {},
   "outputs": [
    {
     "data": {
      "text/plain": [
       "4"
      ]
     },
     "execution_count": 7,
     "metadata": {},
     "output_type": "execute_result"
    }
   ],
   "source": [
    "countNumberList([1,2,3,4])"
   ]
  },
  {
   "cell_type": "markdown",
   "id": "25b58ad3",
   "metadata": {},
   "source": [
    "QuickSort"
   ]
  },
  {
   "cell_type": "code",
   "execution_count": 8,
   "id": "8ab6fe26",
   "metadata": {},
   "outputs": [],
   "source": [
    "# base case = empty array or array with 1 element"
   ]
  },
  {
   "cell_type": "code",
   "execution_count": null,
   "id": "f65b430d",
   "metadata": {},
   "outputs": [],
   "source": [
    "def quicksort(arr: list):\n",
    "    if len(arr) <= 1:\n",
    "        return arr\n",
    "    "
   ]
  }
 ],
 "metadata": {
  "kernelspec": {
   "display_name": "Python 3 (ipykernel)",
   "language": "python",
   "name": "python3"
  },
  "language_info": {
   "codemirror_mode": {
    "name": "ipython",
    "version": 3
   },
   "file_extension": ".py",
   "mimetype": "text/x-python",
   "name": "python",
   "nbconvert_exporter": "python",
   "pygments_lexer": "ipython3",
   "version": "3.8.8"
  }
 },
 "nbformat": 4,
 "nbformat_minor": 5
}
