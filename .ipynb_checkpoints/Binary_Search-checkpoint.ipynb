{
 "cells": [
  {
   "cell_type": "code",
   "execution_count": 2,
   "id": "754e7f8f-126a-4e72-850a-62cb4bd98356",
   "metadata": {},
   "outputs": [
    {
     "name": "stderr",
     "output_type": "stream",
     "text": [
      "\u001b[1minput_line_8:4:1: \u001b[0m\u001b[0;1;31merror: \u001b[0m\u001b[1mfunction definition is not allowed here\u001b[0m\n",
      "{\n",
      "\u001b[0;1;32m^\n",
      "\u001b[0m\u001b[1minput_line_8:20:1: \u001b[0m\u001b[0;1;31merror: \u001b[0m\u001b[1mno matching function for call to 'search'\u001b[0m\n",
      "search()\n",
      "\u001b[0;1;32m^~~~~~\n",
      "\u001b[0m\u001b[1m/home/pedro/anaconda3/envs/cling/bin/../lib/gcc/../../x86_64-conda-linux-gnu/include/c++/9.4.0/bits/stl_algo.h:4176:5: \u001b[0m\u001b[0;1;30mnote: \u001b[0mcandidate function template not viable: requires 4 arguments, but 0 were\n",
      "      provided\u001b[0m\n",
      "    search(_ForwardIterator1 __first1, _ForwardIterator1 __last1,\n",
      "\u001b[0;1;32m    ^\n",
      "\u001b[0m\u001b[1m/home/pedro/anaconda3/envs/cling/bin/../lib/gcc/../../x86_64-conda-linux-gnu/include/c++/9.4.0/bits/stl_algo.h:4216:5: \u001b[0m\u001b[0;1;30mnote: \u001b[0mcandidate function template not viable: requires 5 arguments, but 0 were\n",
      "      provided\u001b[0m\n",
      "    search(_ForwardIterator1 __first1, _ForwardIterator1 __last1,\n",
      "\u001b[0;1;32m    ^\n",
      "\u001b[0m\u001b[1m/home/pedro/anaconda3/envs/cling/bin/../lib/gcc/../../x86_64-conda-linux-gnu/include/c++/9.4.0/bits/stl_algo.h:4308:5: \u001b[0m\u001b[0;1;30mnote: \u001b[0mcandidate function template not viable: requires 3 arguments, but 0 were\n",
      "      provided\u001b[0m\n",
      "    search(_ForwardIterator __first, _ForwardIterator __last,\n",
      "\u001b[0;1;32m    ^\n",
      "\u001b[0m\u001b[1m/home/pedro/anaconda3/envs/cling/bin/../lib/gcc/../../x86_64-conda-linux-gnu/include/c++/9.4.0/pstl/glue_algorithm_defs.h:112:1: \u001b[0m\u001b[0;1;30mnote: \u001b[0mcandidate function template not viable: requires 6 arguments, but 0 were\n",
      "      provided\u001b[0m\n",
      "search(_ExecutionPolicy&& __exec, _ForwardIterator1 __first, _ForwardIte...\n",
      "\u001b[0;1;32m^\n",
      "\u001b[0m\u001b[1m/home/pedro/anaconda3/envs/cling/bin/../lib/gcc/../../x86_64-conda-linux-gnu/include/c++/9.4.0/pstl/glue_algorithm_defs.h:117:1: \u001b[0m\u001b[0;1;30mnote: \u001b[0mcandidate function template not viable: requires 5 arguments, but 0 were\n",
      "      provided\u001b[0m\n",
      "search(_ExecutionPolicy&& __exec, _ForwardIterator1 __first, _ForwardIte...\n",
      "\u001b[0;1;32m^\n",
      "\u001b[0m"
     ]
    },
    {
     "ename": "Interpreter Error",
     "evalue": "",
     "output_type": "error",
     "traceback": [
      "Interpreter Error: "
     ]
    }
   ],
   "source": [
    "using namespace std;\n",
    "\n",
    "int search(vector<int>array, int item, int low = 0, int high = 0)\n",
    "{\n",
    "    if (!high) high = array.size();\n",
    "    if (array.size() == 1) return low;\n",
    "    int mid = (low + high) / 2;\n",
    "    int guess = array[mid];\n",
    "    \n",
    "    if (guess < item){\n",
    "        low = mid;\n",
    "        return search(array, item, low, high);\n",
    "    }\n",
    "    if (guess > item){\n",
    "        high = mid;\n",
    "        return search(array, item, low, high);\n",
    "    }\n",
    "    else return guess;\n",
    "}\n",
    "\n",
    "search();"
   ]
  },
  {
   "cell_type": "code",
   "execution_count": null,
   "id": "52b086d0-75a5-4480-8117-71f66714a0c6",
   "metadata": {},
   "outputs": [],
   "source": []
  },
  {
   "cell_type": "code",
   "execution_count": null,
   "id": "2e409385-86b2-40e4-a3bb-b23e6d726bbc",
   "metadata": {},
   "outputs": [],
   "source": []
  },
  {
   "cell_type": "code",
   "execution_count": null,
   "id": "d6d0fa40-c60a-4661-a1c8-e263ebf97aff",
   "metadata": {},
   "outputs": [],
   "source": []
  }
 ],
 "metadata": {
  "kernelspec": {
   "display_name": "C++17",
   "language": "C++17",
   "name": "xcpp17"
  },
  "language_info": {
   "codemirror_mode": "text/x-c++src",
   "file_extension": ".cpp",
   "mimetype": "text/x-c++src",
   "name": "c++",
   "version": "17"
  }
 },
 "nbformat": 4,
 "nbformat_minor": 5
}
