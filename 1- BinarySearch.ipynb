{
 "cells": [
  {
   "cell_type": "markdown",
   "id": "6aaff67c",
   "metadata": {},
   "source": [
    "### Binary search"
   ]
  },
  {
   "cell_type": "code",
   "execution_count": 1,
   "id": "1023df19",
   "metadata": {},
   "outputs": [],
   "source": [
    "import numpy as np"
   ]
  },
  {
   "cell_type": "markdown",
   "id": "efbbaf9f",
   "metadata": {},
   "source": [
    " // Binary search has a SORTED INPUT.\n",
    " \n",
    " // Returns the position where the element is located, otherwise NULL\n",
    " \n",
    " O(log n) time!\n",
    " \n",
    " Big O tells us how the algorithm grows"
   ]
  },
  {
   "cell_type": "markdown",
   "id": "bb533eef",
   "metadata": {},
   "source": [
    "Binary search takes the half, sees if it number is low or higher then the half. It keeps doing it until there is only your number\n",
    "\n",
    "that way the number steps required is log_2(x)\n",
    "\n",
    "O(log(n))"
   ]
  },
  {
   "cell_type": "markdown",
   "id": "61497f35",
   "metadata": {},
   "source": [
    "Binary search only works when your list in is sorted order"
   ]
  },
  {
   "cell_type": "code",
   "execution_count": 14,
   "id": "0f14625f",
   "metadata": {},
   "outputs": [],
   "source": [
    "def binarySearch(arr: list, item: int,low = 0, high = 0):\n",
    "    if not high:\n",
    "        high = len(arr) - 1\n",
    "    if len(arr) == 1:\n",
    "        return low\n",
    "    mid = (high + low)//2\n",
    "    guess = arr[mid]\n",
    "    if guess < item:\n",
    "        low = mid\n",
    "        return binarySearch(arr,item,low,high)\n",
    "    if guess > item:\n",
    "        high = guess\n",
    "        return binarySearch(arr,item,low,high)\n",
    "    if guess == item:\n",
    "        return mid"
   ]
  },
  {
   "cell_type": "code",
   "execution_count": 15,
   "id": "5e0ccbf3",
   "metadata": {},
   "outputs": [
    {
     "data": {
      "text/plain": [
       "3"
      ]
     },
     "execution_count": 15,
     "metadata": {},
     "output_type": "execute_result"
    }
   ],
   "source": [
    "binarySearch([1,2,3,4,5,6,7],4)"
   ]
  },
  {
   "cell_type": "markdown",
   "id": "dbe3f335",
   "metadata": {},
   "source": [
    "#### Exercise 1"
   ]
  },
  {
   "cell_type": "markdown",
   "id": "736fb5ec",
   "metadata": {},
   "source": [
    "Suppose you have a list of 128 names, and you're searching through it using binary search. What's the maximum number of steps now?"
   ]
  },
  {
   "cell_type": "code",
   "execution_count": 4,
   "id": "31712a20",
   "metadata": {},
   "outputs": [
    {
     "data": {
      "text/plain": [
       "7.0"
      ]
     },
     "execution_count": 4,
     "metadata": {},
     "output_type": "execute_result"
    }
   ],
   "source": [
    "# Since the complexity of a binary search is Log_2(n), we can calculate the worst case scenario as O(log(n))\n",
    "\n",
    "np.ceil(np.log2(128))"
   ]
  },
  {
   "cell_type": "code",
   "execution_count": 5,
   "id": "377eb28d",
   "metadata": {},
   "outputs": [
    {
     "data": {
      "text/plain": [
       "8.0"
      ]
     },
     "execution_count": 5,
     "metadata": {},
     "output_type": "execute_result"
    }
   ],
   "source": [
    "np.ceil(np.log2(256))"
   ]
  },
  {
   "cell_type": "code",
   "execution_count": null,
   "id": "c6b18ba4",
   "metadata": {},
   "outputs": [],
   "source": []
  }
 ],
 "metadata": {
  "kernelspec": {
   "display_name": "Python 3 (ipykernel)",
   "language": "python",
   "name": "python3"
  },
  "language_info": {
   "codemirror_mode": {
    "name": "ipython",
    "version": 3
   },
   "file_extension": ".py",
   "mimetype": "text/x-python",
   "name": "python",
   "nbconvert_exporter": "python",
   "pygments_lexer": "ipython3",
   "version": "3.8.8"
  }
 },
 "nbformat": 4,
 "nbformat_minor": 5
}
